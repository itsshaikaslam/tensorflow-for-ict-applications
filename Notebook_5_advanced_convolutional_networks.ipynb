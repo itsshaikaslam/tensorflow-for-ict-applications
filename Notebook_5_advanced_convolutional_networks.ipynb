{
 "cells": [
  {
   "cell_type": "markdown",
   "metadata": {
    "colab_type": "text",
    "id": "WmAJIatpEyON"
   },
   "source": [
    "# TensorFlow for ICT Applications\n",
    "\n",
    "## Lab session 5: Advanced CNN"
   ]
  },
  {
   "cell_type": "markdown",
   "metadata": {
    "colab_type": "text",
    "id": "khaRDJuIE07O"
   },
   "source": [
    "**Contents of this lab session:**\n",
    "* Load image data in TF using tf.data and tf.image.\n",
    "* Perform data augmentation on training images.\n",
    "* Build a CNN architecture from scratch.\n",
    "* Make training faster using tf.function."
   ]
  },
  {
   "cell_type": "markdown",
   "metadata": {
    "colab_type": "text",
    "id": "NRL6JLU6FC10"
   },
   "source": [
    "### About the task"
   ]
  },
  {
   "cell_type": "markdown",
   "metadata": {
    "colab_type": "text",
    "id": "QV5zrNzGEyOO"
   },
   "source": [
    "The data can be downloaded as **Dataset 1** from here:\n",
    "https://github.com/SullyChen/driving-datasets\n",
    "\n",
    "Direct Drive link:\n",
    "https://drive.google.com/file/d/0B-KJCaaF7elleG1RbzVPZWV4Tlk/view?usp=sharing\n",
    "\n",
    "For each image (taken from a front-facing camera in a car), we want to predict a steering angle."
   ]
  },
  {
   "cell_type": "markdown",
   "metadata": {
    "colab_type": "text",
    "id": "z83Ul21PFPNk"
   },
   "source": [
    "### Step 0 (ONLY COLAB): Load the Drive file\n",
    "\n",
    "This part is only needed in a Colab environment for downloading the Drive file.\n",
    "\n",
    "Original source for the code: https://colab.research.google.com/notebooks/io.ipynb#scrollTo=zU5b6dlRwUQk"
   ]
  },
  {
   "cell_type": "code",
   "execution_count": 6,
   "metadata": {
    "colab": {
     "base_uri": "https://localhost:8080/",
     "height": 51
    },
    "colab_type": "code",
    "id": "9CkF_qdIFY98",
    "outputId": "5ad8c64b-f915-45dd-e4bb-17088121d11c"
   },
   "outputs": [
    {
     "name": "stdout",
     "output_type": "stream",
     "text": [
      "\u001b[?25l\r",
      "\u001b[K     |▎                               | 10kB 20.0MB/s eta 0:00:01\r",
      "\u001b[K     |▋                               | 20kB 1.8MB/s eta 0:00:01\r",
      "\u001b[K     |█                               | 30kB 2.6MB/s eta 0:00:01\r",
      "\u001b[K     |█▎                              | 40kB 1.7MB/s eta 0:00:01\r",
      "\u001b[K     |█▋                              | 51kB 2.1MB/s eta 0:00:01\r",
      "\u001b[K     |██                              | 61kB 2.5MB/s eta 0:00:01\r",
      "\u001b[K     |██▎                             | 71kB 2.9MB/s eta 0:00:01\r",
      "\u001b[K     |██▋                             | 81kB 2.3MB/s eta 0:00:01\r",
      "\u001b[K     |███                             | 92kB 2.5MB/s eta 0:00:01\r",
      "\u001b[K     |███▎                            | 102kB 2.8MB/s eta 0:00:01\r",
      "\u001b[K     |███▋                            | 112kB 2.8MB/s eta 0:00:01\r",
      "\u001b[K     |████                            | 122kB 2.8MB/s eta 0:00:01\r",
      "\u001b[K     |████▎                           | 133kB 2.8MB/s eta 0:00:01\r",
      "\u001b[K     |████▋                           | 143kB 2.8MB/s eta 0:00:01\r",
      "\u001b[K     |█████                           | 153kB 2.8MB/s eta 0:00:01\r",
      "\u001b[K     |█████▎                          | 163kB 2.8MB/s eta 0:00:01\r",
      "\u001b[K     |█████▋                          | 174kB 2.8MB/s eta 0:00:01\r",
      "\u001b[K     |██████                          | 184kB 2.8MB/s eta 0:00:01\r",
      "\u001b[K     |██████▎                         | 194kB 2.8MB/s eta 0:00:01\r",
      "\u001b[K     |██████▋                         | 204kB 2.8MB/s eta 0:00:01\r",
      "\u001b[K     |███████                         | 215kB 2.8MB/s eta 0:00:01\r",
      "\u001b[K     |███████▎                        | 225kB 2.8MB/s eta 0:00:01\r",
      "\u001b[K     |███████▋                        | 235kB 2.8MB/s eta 0:00:01\r",
      "\u001b[K     |████████                        | 245kB 2.8MB/s eta 0:00:01\r",
      "\u001b[K     |████████▎                       | 256kB 2.8MB/s eta 0:00:01\r",
      "\u001b[K     |████████▋                       | 266kB 2.8MB/s eta 0:00:01\r",
      "\u001b[K     |█████████                       | 276kB 2.8MB/s eta 0:00:01\r",
      "\u001b[K     |█████████▎                      | 286kB 2.8MB/s eta 0:00:01\r",
      "\u001b[K     |█████████▋                      | 296kB 2.8MB/s eta 0:00:01\r",
      "\u001b[K     |██████████                      | 307kB 2.8MB/s eta 0:00:01\r",
      "\u001b[K     |██████████▎                     | 317kB 2.8MB/s eta 0:00:01\r",
      "\u001b[K     |██████████▋                     | 327kB 2.8MB/s eta 0:00:01\r",
      "\u001b[K     |███████████                     | 337kB 2.8MB/s eta 0:00:01\r",
      "\u001b[K     |███████████▎                    | 348kB 2.8MB/s eta 0:00:01\r",
      "\u001b[K     |███████████▋                    | 358kB 2.8MB/s eta 0:00:01\r",
      "\u001b[K     |████████████                    | 368kB 2.8MB/s eta 0:00:01\r",
      "\u001b[K     |████████████▎                   | 378kB 2.8MB/s eta 0:00:01\r",
      "\u001b[K     |████████████▋                   | 389kB 2.8MB/s eta 0:00:01\r",
      "\u001b[K     |█████████████                   | 399kB 2.8MB/s eta 0:00:01\r",
      "\u001b[K     |█████████████▎                  | 409kB 2.8MB/s eta 0:00:01\r",
      "\u001b[K     |█████████████▋                  | 419kB 2.8MB/s eta 0:00:01\r",
      "\u001b[K     |██████████████                  | 430kB 2.8MB/s eta 0:00:01\r",
      "\u001b[K     |██████████████▎                 | 440kB 2.8MB/s eta 0:00:01\r",
      "\u001b[K     |██████████████▋                 | 450kB 2.8MB/s eta 0:00:01\r",
      "\u001b[K     |███████████████                 | 460kB 2.8MB/s eta 0:00:01\r",
      "\u001b[K     |███████████████▎                | 471kB 2.8MB/s eta 0:00:01\r",
      "\u001b[K     |███████████████▋                | 481kB 2.8MB/s eta 0:00:01\r",
      "\u001b[K     |████████████████                | 491kB 2.8MB/s eta 0:00:01\r",
      "\u001b[K     |████████████████▎               | 501kB 2.8MB/s eta 0:00:01\r",
      "\u001b[K     |████████████████▋               | 512kB 2.8MB/s eta 0:00:01\r",
      "\u001b[K     |█████████████████               | 522kB 2.8MB/s eta 0:00:01\r",
      "\u001b[K     |█████████████████▎              | 532kB 2.8MB/s eta 0:00:01\r",
      "\u001b[K     |█████████████████▋              | 542kB 2.8MB/s eta 0:00:01\r",
      "\u001b[K     |██████████████████              | 552kB 2.8MB/s eta 0:00:01\r",
      "\u001b[K     |██████████████████▎             | 563kB 2.8MB/s eta 0:00:01\r",
      "\u001b[K     |██████████████████▋             | 573kB 2.8MB/s eta 0:00:01\r",
      "\u001b[K     |███████████████████             | 583kB 2.8MB/s eta 0:00:01\r",
      "\u001b[K     |███████████████████▎            | 593kB 2.8MB/s eta 0:00:01\r",
      "\u001b[K     |███████████████████▋            | 604kB 2.8MB/s eta 0:00:01\r",
      "\u001b[K     |████████████████████            | 614kB 2.8MB/s eta 0:00:01\r",
      "\u001b[K     |████████████████████▎           | 624kB 2.8MB/s eta 0:00:01\r",
      "\u001b[K     |████████████████████▋           | 634kB 2.8MB/s eta 0:00:01\r",
      "\u001b[K     |█████████████████████           | 645kB 2.8MB/s eta 0:00:01\r",
      "\u001b[K     |█████████████████████▎          | 655kB 2.8MB/s eta 0:00:01\r",
      "\u001b[K     |█████████████████████▋          | 665kB 2.8MB/s eta 0:00:01\r",
      "\u001b[K     |██████████████████████          | 675kB 2.8MB/s eta 0:00:01\r",
      "\u001b[K     |██████████████████████▎         | 686kB 2.8MB/s eta 0:00:01\r",
      "\u001b[K     |██████████████████████▋         | 696kB 2.8MB/s eta 0:00:01\r",
      "\u001b[K     |███████████████████████         | 706kB 2.8MB/s eta 0:00:01\r",
      "\u001b[K     |███████████████████████▎        | 716kB 2.8MB/s eta 0:00:01\r",
      "\u001b[K     |███████████████████████▋        | 727kB 2.8MB/s eta 0:00:01\r",
      "\u001b[K     |████████████████████████        | 737kB 2.8MB/s eta 0:00:01\r",
      "\u001b[K     |████████████████████████▎       | 747kB 2.8MB/s eta 0:00:01\r",
      "\u001b[K     |████████████████████████▋       | 757kB 2.8MB/s eta 0:00:01\r",
      "\u001b[K     |████████████████████████▉       | 768kB 2.8MB/s eta 0:00:01\r",
      "\u001b[K     |█████████████████████████▏      | 778kB 2.8MB/s eta 0:00:01\r",
      "\u001b[K     |█████████████████████████▌      | 788kB 2.8MB/s eta 0:00:01\r",
      "\u001b[K     |█████████████████████████▉      | 798kB 2.8MB/s eta 0:00:01\r",
      "\u001b[K     |██████████████████████████▏     | 808kB 2.8MB/s eta 0:00:01\r",
      "\u001b[K     |██████████████████████████▌     | 819kB 2.8MB/s eta 0:00:01\r",
      "\u001b[K     |██████████████████████████▉     | 829kB 2.8MB/s eta 0:00:01\r",
      "\u001b[K     |███████████████████████████▏    | 839kB 2.8MB/s eta 0:00:01\r",
      "\u001b[K     |███████████████████████████▌    | 849kB 2.8MB/s eta 0:00:01\r",
      "\u001b[K     |███████████████████████████▉    | 860kB 2.8MB/s eta 0:00:01\r",
      "\u001b[K     |████████████████████████████▏   | 870kB 2.8MB/s eta 0:00:01\r",
      "\u001b[K     |████████████████████████████▌   | 880kB 2.8MB/s eta 0:00:01\r",
      "\u001b[K     |████████████████████████████▉   | 890kB 2.8MB/s eta 0:00:01\r",
      "\u001b[K     |█████████████████████████████▏  | 901kB 2.8MB/s eta 0:00:01\r",
      "\u001b[K     |█████████████████████████████▌  | 911kB 2.8MB/s eta 0:00:01\r",
      "\u001b[K     |█████████████████████████████▉  | 921kB 2.8MB/s eta 0:00:01\r",
      "\u001b[K     |██████████████████████████████▏ | 931kB 2.8MB/s eta 0:00:01\r",
      "\u001b[K     |██████████████████████████████▌ | 942kB 2.8MB/s eta 0:00:01\r",
      "\u001b[K     |██████████████████████████████▉ | 952kB 2.8MB/s eta 0:00:01\r",
      "\u001b[K     |███████████████████████████████▏| 962kB 2.8MB/s eta 0:00:01\r",
      "\u001b[K     |███████████████████████████████▌| 972kB 2.8MB/s eta 0:00:01\r",
      "\u001b[K     |███████████████████████████████▉| 983kB 2.8MB/s eta 0:00:01\r",
      "\u001b[K     |████████████████████████████████| 993kB 2.8MB/s \n",
      "\u001b[?25h  Building wheel for PyDrive (setup.py) ... \u001b[?25l\u001b[?25hdone\n"
     ]
    }
   ],
   "source": [
    "# We use PyDrive for connecting to Google Drive\n",
    "!pip install -U -q PyDrive"
   ]
  },
  {
   "cell_type": "code",
   "execution_count": 0,
   "metadata": {
    "colab": {},
    "colab_type": "code",
    "id": "-5oFHJ8gJbQ0"
   },
   "outputs": [],
   "source": [
    "from pydrive.auth import GoogleAuth\n",
    "from pydrive.drive import GoogleDrive\n",
    "from google.colab import auth\n",
    "from oauth2client.client import GoogleCredentials\n",
    "\n",
    "# This part authenticate and create the PyDrive client\n",
    "auth.authenticate_user()\n",
    "gauth = GoogleAuth()\n",
    "gauth.credentials = GoogleCredentials.get_application_default()\n",
    "drive = GoogleDrive(gauth)"
   ]
  },
  {
   "cell_type": "code",
   "execution_count": 0,
   "metadata": {
    "colab": {},
    "colab_type": "code",
    "id": "TXmEmwN0F7kE"
   },
   "outputs": [],
   "source": [
    "# Download the file\n",
    "downloaded = drive.CreateFile({'id': '0B-KJCaaF7elleG1RbzVPZWV4Tlk'}) \n",
    "downloaded.GetContentFile('driving_dataset.zip')"
   ]
  },
  {
   "cell_type": "code",
   "execution_count": 11,
   "metadata": {
    "colab": {
     "base_uri": "https://localhost:8080/",
     "height": 34
    },
    "colab_type": "code",
    "id": "cuoT0J4BKflg",
    "outputId": "9e8f8fd6-de58-4086-cbd7-b0161ffaa10d"
   },
   "outputs": [
    {
     "name": "stdout",
     "output_type": "stream",
     "text": [
      "replace driving_dataset/.DS_Store? [y]es, [n]o, [A]ll, [N]one, [r]ename: A\n"
     ]
    }
   ],
   "source": [
    "# Unzip the images\n",
    "!unzip -q driving_dataset.zip"
   ]
  },
  {
   "cell_type": "markdown",
   "metadata": {
    "colab_type": "text",
    "id": "18qZHmOGEyOP"
   },
   "source": [
    "### Step 1: Load the CSV and convert it to TF arrays"
   ]
  },
  {
   "cell_type": "code",
   "execution_count": null,
   "metadata": {
    "colab": {
     "base_uri": "https://localhost:8080/",
     "height": 510
    },
    "colab_type": "code",
    "id": "-TwTJCwyLIJ8",
    "outputId": "fea47c40-0ef7-4e9f-9f1c-fcc817276465"
   },
   "outputs": [],
   "source": [
    "# Ensure we are using the preview 2.0 version of TensorFlow\n",
    "!pip install -q tensorflow-gpu==2.0.0-alpha"
   ]
  },
  {
   "cell_type": "markdown",
   "metadata": {
    "colab_type": "text",
    "id": "rJwAi9kZEyOP"
   },
   "source": [
    "This time, differently from the previous notebook, instead of images in separate folders we have one large CSV containing file paths and corresponding targets."
   ]
  },
  {
   "cell_type": "code",
   "execution_count": 150,
   "metadata": {
    "colab": {},
    "colab_type": "code",
    "id": "jDg4uoPlEyOQ"
   },
   "outputs": [],
   "source": [
    "import pandas as pd\n",
    "data_path = './data/driving_dataset/'\n",
    "df = pd.read_csv(data_path + 'data.txt', header=None, sep=' ')"
   ]
  },
  {
   "cell_type": "code",
   "execution_count": 151,
   "metadata": {
    "colab": {
     "base_uri": "https://localhost:8080/",
     "height": 204
    },
    "colab_type": "code",
    "id": "hqaGJuIZEyOS",
    "outputId": "93b869da-196c-4388-bb28-8b6917327e5d"
   },
   "outputs": [
    {
     "data": {
      "text/html": [
       "<div>\n",
       "<style scoped>\n",
       "    .dataframe tbody tr th:only-of-type {\n",
       "        vertical-align: middle;\n",
       "    }\n",
       "\n",
       "    .dataframe tbody tr th {\n",
       "        vertical-align: top;\n",
       "    }\n",
       "\n",
       "    .dataframe thead th {\n",
       "        text-align: right;\n",
       "    }\n",
       "</style>\n",
       "<table border=\"1\" class=\"dataframe\">\n",
       "  <thead>\n",
       "    <tr style=\"text-align: right;\">\n",
       "      <th></th>\n",
       "      <th>0</th>\n",
       "      <th>1</th>\n",
       "    </tr>\n",
       "  </thead>\n",
       "  <tbody>\n",
       "    <tr>\n",
       "      <th>0</th>\n",
       "      <td>0.jpg</td>\n",
       "      <td>0.0</td>\n",
       "    </tr>\n",
       "    <tr>\n",
       "      <th>1</th>\n",
       "      <td>1.jpg</td>\n",
       "      <td>0.0</td>\n",
       "    </tr>\n",
       "    <tr>\n",
       "      <th>2</th>\n",
       "      <td>2.jpg</td>\n",
       "      <td>0.0</td>\n",
       "    </tr>\n",
       "    <tr>\n",
       "      <th>3</th>\n",
       "      <td>3.jpg</td>\n",
       "      <td>0.0</td>\n",
       "    </tr>\n",
       "    <tr>\n",
       "      <th>4</th>\n",
       "      <td>4.jpg</td>\n",
       "      <td>0.0</td>\n",
       "    </tr>\n",
       "  </tbody>\n",
       "</table>\n",
       "</div>"
      ],
      "text/plain": [
       "       0    1\n",
       "0  0.jpg  0.0\n",
       "1  1.jpg  0.0\n",
       "2  2.jpg  0.0\n",
       "3  3.jpg  0.0\n",
       "4  4.jpg  0.0"
      ]
     },
     "execution_count": 151,
     "metadata": {},
     "output_type": "execute_result"
    }
   ],
   "source": [
    "# Each row is given by the image name and the corresponding desired steering angle\n",
    "df.head()"
   ]
  },
  {
   "cell_type": "code",
   "execution_count": 152,
   "metadata": {
    "colab": {},
    "colab_type": "code",
    "id": "ElBKovrIOGIx"
   },
   "outputs": [],
   "source": [
    "images = df.iloc[:, 0].values\n",
    "labels = df.iloc[:, 1].values"
   ]
  },
  {
   "cell_type": "code",
   "execution_count": 153,
   "metadata": {
    "colab": {},
    "colab_type": "code",
    "id": "AMsxWMvlOKre"
   },
   "outputs": [],
   "source": [
    "from sklearn.preprocessing import scale\n",
    "# We normalize the labels\n",
    "labels = scale(labels)"
   ]
  },
  {
   "cell_type": "code",
   "execution_count": 154,
   "metadata": {
    "colab": {},
    "colab_type": "code",
    "id": "zrpBsCIKEyOV"
   },
   "outputs": [],
   "source": [
    "import tensorflow as tf\n",
    "images = tf.constant(images)\n",
    "labels = tf.constant(labels)"
   ]
  },
  {
   "cell_type": "code",
   "execution_count": 155,
   "metadata": {
    "colab": {},
    "colab_type": "code",
    "id": "PGCc4l1VEyOX"
   },
   "outputs": [],
   "source": [
    "# Manually split into training and test parts\n",
    "\n",
    "train_images = images[0:30000]\n",
    "train_labels = labels[0:30000]\n",
    "\n",
    "test_images = images[30000:]\n",
    "test_labels = labels[30000:]"
   ]
  },
  {
   "cell_type": "markdown",
   "metadata": {
    "colab_type": "text",
    "id": "Fyo4y2lNEyOY"
   },
   "source": [
    "### Step 2: Load the actual images using tf.data"
   ]
  },
  {
   "cell_type": "markdown",
   "metadata": {
    "colab_type": "text",
    "id": "ra4Wnc03EyOZ"
   },
   "source": [
    "We can use the Keras interface 'flow_from_dataframe', but because our data preprocessing pipeline is more complicated this time, we show how to do it entirely using the 'tf.data' and 'tf.image' modules.\n",
    "\n",
    "A full guide can be found here: https://www.tensorflow.org/alpha/tutorials/load_data/images"
   ]
  },
  {
   "cell_type": "code",
   "execution_count": 156,
   "metadata": {
    "colab": {},
    "colab_type": "code",
    "id": "BVR6hb85EyOd"
   },
   "outputs": [],
   "source": [
    "# Build the tf.data Dataset\n",
    "train_dataset = tf.data.Dataset.from_tensor_slices((train_images, train_labels))"
   ]
  },
  {
   "cell_type": "code",
   "execution_count": 157,
   "metadata": {
    "colab": {},
    "colab_type": "code",
    "id": "DNp7gE3hEyOb"
   },
   "outputs": [],
   "source": [
    "def preprocess_row(image_path, label):\n",
    "    \n",
    "    # Load and preprocess the image\n",
    "    image = tf.io.read_file(data_path + image_path)\n",
    "    image = tf.image.decode_image(image, channels=3)\n",
    "    image = tf.image.resize_image_with_crop_or_pad(image, 196, 455)\n",
    "    image = tf.cast(image, tf.float32) / 255.0  # normalize to [0,1] range\n",
    "\n",
    "    return image, label"
   ]
  },
  {
   "cell_type": "code",
   "execution_count": 158,
   "metadata": {
    "colab": {},
    "colab_type": "code",
    "id": "NrIW6mbhEyOe"
   },
   "outputs": [],
   "source": [
    "# Preprocess it using our custom function\n",
    "train_dataset = train_dataset.map(preprocess_row)"
   ]
  },
  {
   "cell_type": "code",
   "execution_count": 159,
   "metadata": {
    "colab": {
     "base_uri": "https://localhost:8080/",
     "height": 213
    },
    "colab_type": "code",
    "id": "fGqGMJ7MEyOh",
    "outputId": "836fd929-7b66-4cf7-c373-d049ca54c88b"
   },
   "outputs": [
    {
     "name": "stdout",
     "output_type": "stream",
     "text": [
      "Corresponding label is:  tf.Tensor(-0.05644434370454633, shape=(), dtype=float64)\n"
     ]
    },
    {
     "data": {
      "image/png": "[encoded data removed]",
      "text/plain": [
       "<Figure size 432x288 with 1 Axes>"
      ]
     },
     "metadata": {
      "needs_background": "light"
     },
     "output_type": "display_data"
    }
   ],
   "source": [
    "# Check loading was successful\n",
    "import matplotlib.pyplot as plt\n",
    "for xb, yb in train_dataset.batch(32):\n",
    "    plt.imshow(xb[0].numpy())\n",
    "    print('Corresponding label is: ', yb[0])\n",
    "    break"
   ]
  },
  {
   "cell_type": "code",
   "execution_count": 160,
   "metadata": {
    "colab": {},
    "colab_type": "code",
    "id": "W0Dhb9WGEyOk"
   },
   "outputs": [],
   "source": [
    "# Load the test data\n",
    "test_dataset = tf.data.Dataset.from_tensor_slices((test_images, test_labels))"
   ]
  },
  {
   "cell_type": "code",
   "execution_count": 161,
   "metadata": {
    "colab": {},
    "colab_type": "code",
    "id": "b7YcEN5CEyOl"
   },
   "outputs": [],
   "source": [
    "# Also preprocess the test data\n",
    "test_dataset = test_dataset.map(preprocess_row)"
   ]
  },
  {
   "cell_type": "markdown",
   "metadata": {
    "colab_type": "text",
    "id": "WGyzMj0aEyOn"
   },
   "source": [
    "### Step 3: Add some image augmentation with random brightness"
   ]
  },
  {
   "cell_type": "code",
   "execution_count": 162,
   "metadata": {
    "colab": {},
    "colab_type": "code",
    "id": "VVyjzuiQEyOn"
   },
   "outputs": [],
   "source": [
    "def modify_brightness(image, target):\n",
    "    # Note how target is unmodified\n",
    "    return tf.image.random_brightness(image, 0.05), target"
   ]
  },
  {
   "cell_type": "code",
   "execution_count": 163,
   "metadata": {
    "colab": {},
    "colab_type": "code",
    "id": "PpnQFX7GEyOp"
   },
   "outputs": [],
   "source": [
    "# Add our data augmentation procedure to the image pipeline\n",
    "train_dataset = train_dataset.map(modify_brightness)"
   ]
  },
  {
   "cell_type": "markdown",
   "metadata": {
    "colab_type": "text",
    "id": "ahMRMomnEyOq"
   },
   "source": [
    "### Step 4: Define our convolutional architecture"
   ]
  },
  {
   "cell_type": "code",
   "execution_count": 164,
   "metadata": {
    "colab": {},
    "colab_type": "code",
    "id": "s5wwp-dPEyOr"
   },
   "outputs": [],
   "source": [
    "from tensorflow.keras.layers import Conv2D, Input, BatchNormalization, Flatten, Dense, Dropout\n",
    "from tensorflow.keras.models import Sequential\n",
    "from tensorflow.keras.regularizers import l2"
   ]
  },
  {
   "cell_type": "code",
   "execution_count": 165,
   "metadata": {
    "colab": {},
    "colab_type": "code",
    "id": "LyK0BCL_EyOs"
   },
   "outputs": [],
   "source": [
    "# The model starts from here\n",
    "input_shape = (196, 455, 3)\n",
    "model = Sequential()\n",
    "model.add(Input(input_shape))"
   ]
  },
  {
   "cell_type": "code",
   "execution_count": 166,
   "metadata": {
    "colab": {},
    "colab_type": "code",
    "id": "pxVOhfTzEyOu"
   },
   "outputs": [],
   "source": [
    "# Utility function to add convolutional + batch normalization layers\n",
    "def add_conv_module(model, filters):\n",
    "    # Note the addition of L2 regularization\n",
    "    model.add(Conv2D(filters, (5, 5), padding='valid', kernel_regularizer = l2(0.001), activation='relu', strides=(2, 2)))\n",
    "    model.add(BatchNormalization())"
   ]
  },
  {
   "cell_type": "code",
   "execution_count": 167,
   "metadata": {
    "colab": {},
    "colab_type": "code",
    "id": "PlmeRTkmEyOx"
   },
   "outputs": [],
   "source": [
    "# Add a bunch of batch normalization layers\n",
    "add_conv_module(model, 24)\n",
    "add_conv_module(model, 36)\n",
    "add_conv_module(model, 48)\n",
    "add_conv_module(model, 48)\n",
    "add_conv_module(model, 48)"
   ]
  },
  {
   "cell_type": "code",
   "execution_count": 168,
   "metadata": {
    "colab": {},
    "colab_type": "code",
    "id": "MN-1UP7AEyOz"
   },
   "outputs": [],
   "source": [
    "# Add the final classification layers\n",
    "model.add(Flatten())\n",
    "model.add(Dropout(0.4))\n",
    "model.add(Dense(100, activation='relu'))\n",
    "model.add(Dropout(0.4))\n",
    "model.add(Dense(1))"
   ]
  },
  {
   "cell_type": "code",
   "execution_count": 170,
   "metadata": {
    "colab": {
     "base_uri": "https://localhost:8080/",
     "height": 663
    },
    "colab_type": "code",
    "id": "pvr4kSXaEyO3",
    "outputId": "3ca03e0f-546a-4e52-a191-53c64b2c64e7"
   },
   "outputs": [
    {
     "name": "stdout",
     "output_type": "stream",
     "text": [
      "Model: \"sequential_5\"\n",
      "_________________________________________________________________\n",
      "Layer (type)                 Output Shape              Param #   \n",
      "=================================================================\n",
      "conv2d_13 (Conv2D)           (None, 96, 226, 24)       1824      \n",
      "_________________________________________________________________\n",
      "batch_normalization_v2_13 (B (None, 96, 226, 24)       96        \n",
      "_________________________________________________________________\n",
      "conv2d_14 (Conv2D)           (None, 46, 111, 36)       21636     \n",
      "_________________________________________________________________\n",
      "batch_normalization_v2_14 (B (None, 46, 111, 36)       144       \n",
      "_________________________________________________________________\n",
      "conv2d_15 (Conv2D)           (None, 21, 54, 48)        43248     \n",
      "_________________________________________________________________\n",
      "batch_normalization_v2_15 (B (None, 21, 54, 48)        192       \n",
      "_________________________________________________________________\n",
      "conv2d_16 (Conv2D)           (None, 9, 25, 48)         57648     \n",
      "_________________________________________________________________\n",
      "batch_normalization_v2_16 (B (None, 9, 25, 48)         192       \n",
      "_________________________________________________________________\n",
      "conv2d_17 (Conv2D)           (None, 3, 11, 48)         57648     \n",
      "_________________________________________________________________\n",
      "batch_normalization_v2_17 (B (None, 3, 11, 48)         192       \n",
      "_________________________________________________________________\n",
      "flatten_2 (Flatten)          (None, 1584)              0         \n",
      "_________________________________________________________________\n",
      "dropout_4 (Dropout)          (None, 1584)              0         \n",
      "_________________________________________________________________\n",
      "dense_4 (Dense)              (None, 100)               158500    \n",
      "_________________________________________________________________\n",
      "dropout_5 (Dropout)          (None, 100)               0         \n",
      "_________________________________________________________________\n",
      "dense_5 (Dense)              (None, 1)                 101       \n",
      "=================================================================\n",
      "Total params: 341,421\n",
      "Trainable params: 341,013\n",
      "Non-trainable params: 408\n",
      "_________________________________________________________________\n"
     ]
    }
   ],
   "source": [
    "model.summary()"
   ]
  },
  {
   "cell_type": "code",
   "execution_count": 183,
   "metadata": {
    "colab": {
     "base_uri": "https://localhost:8080/",
     "height": 34
    },
    "colab_type": "code",
    "id": "a3QteYJeEyO5",
    "outputId": "cfa9850b-5b49-4aa6-ba09-c7ee74592f47"
   },
   "outputs": [
    {
     "data": {
      "text/plain": [
       "<tf.Tensor: id=13619, shape=(1, 1), dtype=float32, numpy=array([[0.03127777]], dtype=float32)>"
      ]
     },
     "execution_count": 183,
     "metadata": {},
     "output_type": "execute_result"
    }
   ],
   "source": [
    "# Test the model\n",
    "model(xb[0:1])"
   ]
  },
  {
   "cell_type": "code",
   "execution_count": 182,
   "metadata": {
    "colab": {
     "base_uri": "https://localhost:8080/",
     "height": 34
    },
    "colab_type": "code",
    "id": "qNZHNvReEyO7",
    "outputId": "fb001aaf-ab8e-4b9b-da5a-55651796c79c"
   },
   "outputs": [
    {
     "data": {
      "text/plain": [
       "<tf.Tensor: id=13528, shape=(1, 1), dtype=float32, numpy=array([[0.79847306]], dtype=float32)>"
      ]
     },
     "execution_count": 182,
     "metadata": {},
     "output_type": "execute_result"
    }
   ],
   "source": [
    "# Training mode (output will be different every time)\n",
    "model(xb[0:1], training=True)"
   ]
  },
  {
   "cell_type": "markdown",
   "metadata": {
    "colab_type": "text",
    "id": "5HMSPbG0EyO_"
   },
   "source": [
    "### Step 5: Finally train"
   ]
  },
  {
   "cell_type": "code",
   "execution_count": 184,
   "metadata": {
    "colab": {},
    "colab_type": "code",
    "id": "ZwsWSg6hEyO_"
   },
   "outputs": [],
   "source": [
    "from tensorflow.keras.optimizers import RMSprop\n",
    "from tensorflow.keras.losses import mean_squared_error\n",
    "model.compile(optimizer=RMSprop(0.001), loss=mean_squared_error)"
   ]
  },
  {
   "cell_type": "code",
   "execution_count": 185,
   "metadata": {
    "colab": {},
    "colab_type": "code",
    "id": "H_3Ru7aJEyPA"
   },
   "outputs": [],
   "source": [
    "import numpy as np\n",
    "batch_size = 16\n",
    "train_steps = np.ceil(len(train_images)/batch_size)\n",
    "test_steps = np.ceil(len(test_images)/batch_size)"
   ]
  },
  {
   "cell_type": "code",
   "execution_count": 186,
   "metadata": {
    "colab": {
     "base_uri": "https://localhost:8080/",
     "height": 375
    },
    "colab_type": "code",
    "id": "l-byJYJDEyPC",
    "outputId": "0a7073af-589b-47e4-8f0a-e7396534269e"
   },
   "outputs": [
    {
     "name": "stdout",
     "output_type": "stream",
     "text": [
      "1875/1875 [==============================] - 1196s 638ms/step - loss: 0.7597 - val_loss: 0.9341\n"
     ]
    }
   ],
   "source": [
    "history = model.fit(train_dataset.shuffle(1000).batch(batch_size).repeat(), epochs=1, steps_per_epoch=train_steps,\n",
    "          validation_data=test_dataset.batch(batch_size).repeat(),\n",
    "          validation_steps=test_steps)"
   ]
  },
  {
   "cell_type": "markdown",
   "metadata": {
    "colab_type": "text",
    "id": "Ok6ze3KYO5UC"
   },
   "source": [
    "### Step 6: Make everything faster with tf.function"
   ]
  },
  {
   "cell_type": "markdown",
   "metadata": {},
   "source": [
    "Autograph is a specialized tool that can speed-up your TensorFlow code by compiling it to a heavily-optimized low-level representation: https://www.tensorflow.org/alpha/guide/autograph"
   ]
  },
  {
   "cell_type": "code",
   "execution_count": 191,
   "metadata": {
    "colab": {},
    "colab_type": "code",
    "id": "38ejgw-6MUwB"
   },
   "outputs": [],
   "source": [
    "# We simply decorate a function where we call our trained model\n",
    "@tf.function\n",
    "def fast_predict(model, xb):\n",
    "  return model(xb)"
   ]
  },
  {
   "cell_type": "code",
   "execution_count": 194,
   "metadata": {
    "colab": {
     "base_uri": "https://localhost:8080/",
     "height": 34
    },
    "colab_type": "code",
    "id": "LUsNwUfbPHeq",
    "outputId": "066c8a0e-0c97-4c7d-b575-f3430fb7fa7f"
   },
   "outputs": [
    {
     "name": "stdout",
     "output_type": "stream",
     "text": [
      "133 ms ± 3.07 ms per loop (mean ± std. dev. of 3 runs, 15 loops each)\n"
     ]
    }
   ],
   "source": [
    "%timeit -r 3 -n 15 model(xb)"
   ]
  },
  {
   "cell_type": "code",
   "execution_count": 195,
   "metadata": {
    "colab": {
     "base_uri": "https://localhost:8080/",
     "height": 34
    },
    "colab_type": "code",
    "id": "HMjDEG9qPTS3",
    "outputId": "00b8c1d7-c843-4b51-c2f6-f76e261ae9a5"
   },
   "outputs": [
    {
     "name": "stdout",
     "output_type": "stream",
     "text": [
      "77.5 ms ± 940 µs per loop (mean ± std. dev. of 3 runs, 15 loops each)\n"
     ]
    }
   ],
   "source": [
    "%timeit -r 3 -n 15 fast_predict(model, xb)"
   ]
  }
 ],
 "metadata": {
  "accelerator": "GPU",
  "colab": {
   "name": "Notebook_5_advanced_convolutional_networks.ipynb",
   "provenance": [],
   "version": "0.3.2"
  },
  "kernelspec": {
   "display_name": "Python 3",
   "language": "python",
   "name": "python3"
  },
  "language_info": {
   "codemirror_mode": {
    "name": "ipython",
    "version": 3
   },
   "file_extension": ".py",
   "mimetype": "text/x-python",
   "name": "python",
   "nbconvert_exporter": "python",
   "pygments_lexer": "ipython3",
   "version": "3.6.8"
  }
 },
 "nbformat": 4,
 "nbformat_minor": 1
}

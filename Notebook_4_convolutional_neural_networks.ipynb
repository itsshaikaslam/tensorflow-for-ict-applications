{
 "cells": [
  {
   "cell_type": "markdown",
   "metadata": {
    "colab_type": "text",
    "id": "uYvsBSrk_RUW"
   },
   "source": [
    "# TensorFlow for ICT Applications\n",
    "\n",
    "## Lab session 4: Convolutional networks"
   ]
  },
  {
   "cell_type": "markdown",
   "metadata": {
    "colab_type": "text",
    "id": "7e1owVI1_uEk"
   },
   "source": [
    "**Contents of this lab session:**\n",
    "\n",
    "1. Loading image data with Keras.\n",
    "2. Downloading a custom model and fine-tuning it."
   ]
  },
  {
   "cell_type": "markdown",
   "metadata": {
    "colab_type": "text",
    "id": "M_4-m19OFa8J"
   },
   "source": [
    "### Downloading the dataset and setting up the virtual machine\n",
    "\n",
    "**Important**: this section is only needed if you are running a Google Colaboratory virtual environment."
   ]
  },
  {
   "cell_type": "markdown",
   "metadata": {
    "colab_type": "text",
    "id": "0Xv9Mb3-_RUb"
   },
   "source": [
    "Download the \"EUROSat\" dataset from here: http://madm.dfki.de/downloads"
   ]
  },
  {
   "cell_type": "code",
   "execution_count": 1,
   "metadata": {
    "colab": {
     "base_uri": "https://localhost:8080/",
     "height": 204
    },
    "colab_type": "code",
    "id": "rxvjIa9M_SmW",
    "outputId": "4937947c-42fa-4a4f-80da-6689e92911f8"
   },
   "outputs": [
    {
     "name": "stdout",
     "output_type": "stream",
     "text": [
      "--2019-05-10 09:08:50--  http://madm.dfki.de/files/sentinel/EuroSAT.zip\n",
      "Resolving madm.dfki.de (madm.dfki.de)... 131.246.195.183\n",
      "Connecting to madm.dfki.de (madm.dfki.de)|131.246.195.183|:80... connected.\n",
      "HTTP request sent, awaiting response... 200 OK\n",
      "Length: 94280567 (90M) [application/zip]\n",
      "Saving to: ‘EuroSAT.zip’\n",
      "\n",
      "EuroSAT.zip         100%[===================>]  89.91M  21.0MB/s    in 5.5s    \n",
      "\n",
      "2019-05-10 09:08:56 (16.3 MB/s) - ‘EuroSAT.zip’ saved [94280567/94280567]\n",
      "\n"
     ]
    }
   ],
   "source": [
    "!wget http://madm.dfki.de/files/sentinel/EuroSAT.zip"
   ]
  },
  {
   "cell_type": "code",
   "execution_count": 0,
   "metadata": {
    "colab": {},
    "colab_type": "code",
    "id": "kBCfJ_n3_YO0"
   },
   "outputs": [],
   "source": [
    "!unzip -q EuroSAT.zip "
   ]
  },
  {
   "cell_type": "code",
   "execution_count": null,
   "metadata": {},
   "outputs": [],
   "source": [
    "!ls # Data should be in the '2750' folder"
   ]
  },
  {
   "cell_type": "code",
   "execution_count": null,
   "metadata": {
    "colab": {
     "base_uri": "https://localhost:8080/",
     "height": 510
    },
    "colab_type": "code",
    "id": "E9JRfgMM_iNF",
    "outputId": "9003eedb-0745-4a10-ee48-3bae354ee105"
   },
   "outputs": [],
   "source": [
    "!pip install tensorflow-gpu==2.0.0-beta1"
   ]
  },
  {
   "cell_type": "markdown",
   "metadata": {
    "colab_type": "text",
    "id": "XRWUj0CVFibR"
   },
   "source": [
    "### Loading image data in Keras"
   ]
  },
  {
   "cell_type": "code",
   "execution_count": 1,
   "metadata": {
    "colab": {},
    "colab_type": "code",
    "id": "1x5VMMwI_RUb"
   },
   "outputs": [],
   "source": [
    "from tensorflow.keras.preprocessing.image import ImageDataGenerator"
   ]
  },
  {
   "cell_type": "markdown",
   "metadata": {
    "colab_type": "text",
    "id": "_YJcTx6E_RUe"
   },
   "source": [
    "See here for the full documentation of the Keras image generator: https://keras.io/preprocessing/image/.\n",
    "\n",
    "Alternatively, we could have loaded images using tf.data, but in the case of separated folders using the Keras interface is slightly easier: https://www.tensorflow.org/tutorials/load_data/images."
   ]
  },
  {
   "cell_type": "code",
   "execution_count": 2,
   "metadata": {
    "colab": {},
    "colab_type": "code",
    "id": "vifgcwp3_RUe"
   },
   "outputs": [],
   "source": [
    "train_datagen = ImageDataGenerator(validation_split=0.2, rescale=1.0/255)"
   ]
  },
  {
   "cell_type": "code",
   "execution_count": 3,
   "metadata": {},
   "outputs": [],
   "source": [
    "dataset_path = './data/eurosat/' # Substitute with your folder or '2750' in Google Colab"
   ]
  },
  {
   "cell_type": "code",
   "execution_count": 15,
   "metadata": {
    "colab": {
     "base_uri": "https://localhost:8080/",
     "height": 51
    },
    "colab_type": "code",
    "id": "edvt5czk_RUg",
    "outputId": "afb1e379-d1f3-4911-bf59-cd381094c9a1"
   },
   "outputs": [
    {
     "name": "stdout",
     "output_type": "stream",
     "text": [
      "Found 21600 images belonging to 10 classes.\n",
      "Found 5400 images belonging to 10 classes.\n"
     ]
    }
   ],
   "source": [
    "train_data = train_datagen.flow_from_directory(dataset_path, target_size=(64, 64), batch_size=32, subset='training')\n",
    "test_data = train_datagen.flow_from_directory(dataset_path, target_size=(64, 64), batch_size=32, subset='validation')"
   ]
  },
  {
   "cell_type": "code",
   "execution_count": 6,
   "metadata": {
    "colab": {
     "base_uri": "https://localhost:8080/",
     "height": 286
    },
    "colab_type": "code",
    "id": "wNTS09Fo_RUk",
    "outputId": "eab6c79b-a4c9-44ec-c040-bfa871fd8e7f"
   },
   "outputs": [
    {
     "name": "stdout",
     "output_type": "stream",
     "text": [
      "Desired target for the image is:  [0. 0. 0. 1. 0. 0. 0. 0. 0. 0.]\n"
     ]
    },
    {
     "data": {
      "image/png": "[encoded data removed]",
      "text/plain": [
       "<Figure size 432x288 with 1 Axes>"
      ]
     },
     "metadata": {
      "needs_background": "light"
     },
     "output_type": "display_data"
    }
   ],
   "source": [
    "import matplotlib.pyplot as plt\n",
    "%matplotlib inline\n",
    "for xb, yb in train_data:\n",
    "    plt.imshow(xb[0, :, :, :])\n",
    "    print('Desired target for the image is: ', yb[0])\n",
    "    break"
   ]
  },
  {
   "cell_type": "code",
   "execution_count": 8,
   "metadata": {},
   "outputs": [
    {
     "data": {
      "text/plain": [
       "{'AnnualCrop': 0,\n",
       " 'Forest': 1,\n",
       " 'HerbaceousVegetation': 2,\n",
       " 'Highway': 3,\n",
       " 'Industrial': 4,\n",
       " 'Pasture': 5,\n",
       " 'PermanentCrop': 6,\n",
       " 'Residential': 7,\n",
       " 'River': 8,\n",
       " 'SeaLake': 9}"
      ]
     },
     "execution_count": 8,
     "metadata": {},
     "output_type": "execute_result"
    }
   ],
   "source": [
    "# To understand the link between integers and classes\n",
    "train_data.class_indices"
   ]
  },
  {
   "cell_type": "markdown",
   "metadata": {
    "colab_type": "text",
    "id": "FllzX2QmFqSB"
   },
   "source": [
    "### Downloading a pretrained model in Keras"
   ]
  },
  {
   "cell_type": "markdown",
   "metadata": {
    "colab_type": "text",
    "id": "8DIcj1BZ_RUo"
   },
   "source": [
    "https://www.tensorflow.org/api_docs/python/tf/keras/models/Model"
   ]
  },
  {
   "cell_type": "code",
   "execution_count": 9,
   "metadata": {
    "colab": {
     "base_uri": "https://localhost:8080/",
     "height": 51
    },
    "colab_type": "code",
    "id": "dLNgw-he_RUt",
    "outputId": "4b4dc8df-75a5-40dd-da57-559982758389"
   },
   "outputs": [],
   "source": [
    "from tensorflow.keras import applications\n",
    "vgg = applications.vgg19.VGG19(include_top=False, input_shape=(64, 64, 3))"
   ]
  },
  {
   "cell_type": "code",
   "execution_count": 10,
   "metadata": {
    "colab": {
     "base_uri": "https://localhost:8080/",
     "height": 901
    },
    "colab_type": "code",
    "id": "uw2eam7MEV9U",
    "outputId": "22ec9bb2-a69b-47d9-f7c0-3e259a17fe57"
   },
   "outputs": [
    {
     "name": "stdout",
     "output_type": "stream",
     "text": [
      "Model: \"vgg19\"\n",
      "_________________________________________________________________\n",
      "Layer (type)                 Output Shape              Param #   \n",
      "=================================================================\n",
      "input_1 (InputLayer)         [(None, 64, 64, 3)]       0         \n",
      "_________________________________________________________________\n",
      "block1_conv1 (Conv2D)        (None, 64, 64, 64)        1792      \n",
      "_________________________________________________________________\n",
      "block1_conv2 (Conv2D)        (None, 64, 64, 64)        36928     \n",
      "_________________________________________________________________\n",
      "block1_pool (MaxPooling2D)   (None, 32, 32, 64)        0         \n",
      "_________________________________________________________________\n",
      "block2_conv1 (Conv2D)        (None, 32, 32, 128)       73856     \n",
      "_________________________________________________________________\n",
      "block2_conv2 (Conv2D)        (None, 32, 32, 128)       147584    \n",
      "_________________________________________________________________\n",
      "block2_pool (MaxPooling2D)   (None, 16, 16, 128)       0         \n",
      "_________________________________________________________________\n",
      "block3_conv1 (Conv2D)        (None, 16, 16, 256)       295168    \n",
      "_________________________________________________________________\n",
      "block3_conv2 (Conv2D)        (None, 16, 16, 256)       590080    \n",
      "_________________________________________________________________\n",
      "block3_conv3 (Conv2D)        (None, 16, 16, 256)       590080    \n",
      "_________________________________________________________________\n",
      "block3_conv4 (Conv2D)        (None, 16, 16, 256)       590080    \n",
      "_________________________________________________________________\n",
      "block3_pool (MaxPooling2D)   (None, 8, 8, 256)         0         \n",
      "_________________________________________________________________\n",
      "block4_conv1 (Conv2D)        (None, 8, 8, 512)         1180160   \n",
      "_________________________________________________________________\n",
      "block4_conv2 (Conv2D)        (None, 8, 8, 512)         2359808   \n",
      "_________________________________________________________________\n",
      "block4_conv3 (Conv2D)        (None, 8, 8, 512)         2359808   \n",
      "_________________________________________________________________\n",
      "block4_conv4 (Conv2D)        (None, 8, 8, 512)         2359808   \n",
      "_________________________________________________________________\n",
      "block4_pool (MaxPooling2D)   (None, 4, 4, 512)         0         \n",
      "_________________________________________________________________\n",
      "block5_conv1 (Conv2D)        (None, 4, 4, 512)         2359808   \n",
      "_________________________________________________________________\n",
      "block5_conv2 (Conv2D)        (None, 4, 4, 512)         2359808   \n",
      "_________________________________________________________________\n",
      "block5_conv3 (Conv2D)        (None, 4, 4, 512)         2359808   \n",
      "_________________________________________________________________\n",
      "block5_conv4 (Conv2D)        (None, 4, 4, 512)         2359808   \n",
      "_________________________________________________________________\n",
      "block5_pool (MaxPooling2D)   (None, 2, 2, 512)         0         \n",
      "=================================================================\n",
      "Total params: 20,024,384\n",
      "Trainable params: 20,024,384\n",
      "Non-trainable params: 0\n",
      "_________________________________________________________________\n"
     ]
    }
   ],
   "source": [
    "vgg.summary()"
   ]
  },
  {
   "cell_type": "code",
   "execution_count": 11,
   "metadata": {
    "colab": {},
    "colab_type": "code",
    "id": "uGpAbrD2EZuT"
   },
   "outputs": [],
   "source": [
    "# Make all layers non-trainable (i.e., \"freeze\" the layers)\n",
    "for l in vgg.layers:\n",
    "    l.trainable = False"
   ]
  },
  {
   "cell_type": "code",
   "execution_count": 12,
   "metadata": {
    "colab": {},
    "colab_type": "code",
    "id": "796RU937EcsD"
   },
   "outputs": [],
   "source": [
    "from tensorflow.keras import models, layers"
   ]
  },
  {
   "cell_type": "code",
   "execution_count": 13,
   "metadata": {
    "colab": {
     "base_uri": "https://localhost:8080/",
     "height": 255
    },
    "colab_type": "code",
    "id": "fGKWVaGvEfx6",
    "outputId": "e0e48f43-06ee-4bd5-b95a-16f7d467bea4"
   },
   "outputs": [
    {
     "name": "stdout",
     "output_type": "stream",
     "text": [
      "Model: \"sequential\"\n",
      "_________________________________________________________________\n",
      "Layer (type)                 Output Shape              Param #   \n",
      "=================================================================\n",
      "vgg19 (Model)                (None, 2, 2, 512)         20024384  \n",
      "_________________________________________________________________\n",
      "flatten (Flatten)            (None, 2048)              0         \n",
      "_________________________________________________________________\n",
      "dense (Dense)                (None, 10)                20490     \n",
      "=================================================================\n",
      "Total params: 20,044,874\n",
      "Trainable params: 20,490\n",
      "Non-trainable params: 20,024,384\n",
      "_________________________________________________________________\n"
     ]
    }
   ],
   "source": [
    "# Add a single layer for classification\n",
    "model = models.Sequential()\n",
    "\n",
    "model.add(vgg)\n",
    "model.add(layers.Flatten())\n",
    "model.add(layers.Dense(10, activation='softmax'))\n",
    "\n",
    "model.summary()"
   ]
  },
  {
   "cell_type": "markdown",
   "metadata": {},
   "source": [
    "### Training the model with Keras high-level interface"
   ]
  },
  {
   "cell_type": "code",
   "execution_count": 17,
   "metadata": {},
   "outputs": [],
   "source": [
    "import numpy as np\n",
    "# When using generators, we need to manually specify the duration of an epoch\n",
    "steps_per_epoch = np.ceil(train_data.samples/train_data.batch_size)\n",
    "test_steps = np.ceil(test_data.samples/test_data.batch_size)"
   ]
  },
  {
   "cell_type": "code",
   "execution_count": 18,
   "metadata": {},
   "outputs": [],
   "source": [
    "# We will use a callback to make some temporary checkpoints\n",
    "from tensorflow.keras.callbacks import ModelCheckpoint\n",
    "checkpoint_callback = ModelCheckpoint(filepath='checkpoints/model-{epoch:02d}.ckpt', \n",
    "                                      save_weights_only=True, # Only saves the weights (not the model structure)\n",
    "                                      verbose=1)"
   ]
  },
  {
   "cell_type": "code",
   "execution_count": 19,
   "metadata": {},
   "outputs": [],
   "source": [
    "# We will use another callback to visualize progress on the external TensorBoard utility\n",
    "from tensorflow.keras.callbacks import TensorBoard\n",
    "tensorboard_callback = TensorBoard(log_dir='tensorboard_logs', update_freq='batch')"
   ]
  },
  {
   "cell_type": "code",
   "execution_count": 21,
   "metadata": {},
   "outputs": [],
   "source": [
    "model.compile(\n",
    "    loss='categorical_crossentropy',\n",
    "    optimizer='adam',\n",
    "    metrics=['accuracy'],\n",
    ")"
   ]
  },
  {
   "cell_type": "code",
   "execution_count": 24,
   "metadata": {},
   "outputs": [
    {
     "name": "stdout",
     "output_type": "stream",
     "text": [
      "Epoch 1/2\n"
     ]
    },
    {
     "name": "stderr",
     "output_type": "stream",
     "text": [
      "WARNING: Logging before flag parsing goes to stderr.\n",
      "W0614 12:49:52.859266 11896 deprecation.py:323] From C:\\Users\\Simone\\Anaconda3\\lib\\site-packages\\tensorflow\\python\\ops\\math_grad.py:1250: add_dispatch_support.<locals>.wrapper (from tensorflow.python.ops.array_ops) is deprecated and will be removed in a future version.\n",
      "Instructions for updating:\n",
      "Use tf.where in 2.0, which has the same broadcast rule as np.where\n"
     ]
    },
    {
     "name": "stdout",
     "output_type": "stream",
     "text": [
      "674/675 [============================>.] - ETA: 0s - loss: 0.8893 - accuracy: 0.7028\n",
      "Epoch 00001: saving model to checkpoints/model-01.ckpt\n",
      "675/675 [==============================] - 357s 530ms/step - loss: 0.8888 - accuracy: 0.7030\n",
      "Epoch 2/2\n",
      "674/675 [============================>.] - ETA: 0s - loss: 0.6163 - accuracy: 0.7922\n",
      "Epoch 00002: saving model to checkpoints/model-02.ckpt\n",
      "675/675 [==============================] - 177s 262ms/step - loss: 0.6159 - accuracy: 0.7923\n"
     ]
    }
   ],
   "source": [
    "history = model.fit_generator(\n",
    "    train_data,\n",
    "    epochs=2,\n",
    "    steps_per_epoch=steps_per_epoch,\n",
    "    verbose=1,\n",
    "    callbacks=[checkpoint_callback, tensorboard_callback] # Note the callbacks here\n",
    ")"
   ]
  },
  {
   "cell_type": "code",
   "execution_count": null,
   "metadata": {},
   "outputs": [],
   "source": [
    "# You can play with the Tensorboard while it is training\n",
    "\n",
    "# From a local machine, open a new terminal and write:\n",
    "# >> tensorboard --logdir tensorboard_logs\n",
    "# Then, you can connect to the URL shown in the output\n",
    "\n",
    "# From Google Colab, load the TensorBoard extension:\n",
    "# %load_ext tensorboard\n",
    "# Now you can launch the TensorBoard directly inside the notebook:\n",
    "# %tensorboard --logdir tensorboard_logs"
   ]
  },
  {
   "cell_type": "markdown",
   "metadata": {},
   "source": [
    "### Reload the latest checkpoint"
   ]
  },
  {
   "cell_type": "code",
   "execution_count": 25,
   "metadata": {},
   "outputs": [
    {
     "name": "stdout",
     "output_type": "stream",
     "text": [
      "checkpoints\\model-02.ckpt\n"
     ]
    }
   ],
   "source": [
    "import tensorflow as tf\n",
    "latest_checkpoint = tf.train.latest_checkpoint('checkpoints')\n",
    "print(latest_checkpoint)"
   ]
  },
  {
   "cell_type": "code",
   "execution_count": 26,
   "metadata": {},
   "outputs": [
    {
     "data": {
      "text/plain": [
       "<tensorflow.python.training.tracking.util.CheckpointLoadStatus at 0x1e8000e1cf8>"
      ]
     },
     "execution_count": 26,
     "metadata": {},
     "output_type": "execute_result"
    }
   ],
   "source": [
    "model.load_weights(latest_checkpoint)"
   ]
  },
  {
   "cell_type": "code",
   "execution_count": 30,
   "metadata": {},
   "outputs": [],
   "source": [
    "# Evaluate on the test data\n",
    "test_values = model.evaluate_generator(test_data, steps=test_steps)"
   ]
  },
  {
   "cell_type": "code",
   "execution_count": 36,
   "metadata": {},
   "outputs": [
    {
     "name": "stdout",
     "output_type": "stream",
     "text": [
      "Test loss is 0.59, test accuracy is 79.61 %\n"
     ]
    }
   ],
   "source": [
    "print('Test loss is {:.2f}, test accuracy is {:.2f} %'.format(test_values[0], test_values[1] * 100))"
   ]
  }
 ],
 "metadata": {
  "accelerator": "GPU",
  "colab": {
   "name": "Notebook_4_convolutional_neural_networks.ipynb",
   "provenance": [],
   "version": "0.3.2"
  },
  "kernelspec": {
   "display_name": "Python 3",
   "language": "python",
   "name": "python3"
  },
  "language_info": {
   "codemirror_mode": {
    "name": "ipython",
    "version": 3
   },
   "file_extension": ".py",
   "mimetype": "text/x-python",
   "name": "python",
   "nbconvert_exporter": "python",
   "pygments_lexer": "ipython3",
   "version": "3.6.8"
  }
 },
 "nbformat": 4,
 "nbformat_minor": 1
}

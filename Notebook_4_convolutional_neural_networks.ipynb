{
 "cells": [
  {
   "cell_type": "markdown",
   "metadata": {
    "colab_type": "text",
    "id": "uYvsBSrk_RUW"
   },
   "source": [
    "# TensorFlow for ICT Applications\n",
    "\n",
    "## Lab session 4: Convolutional networks"
   ]
  },
  {
   "cell_type": "markdown",
   "metadata": {
    "colab_type": "text",
    "id": "7e1owVI1_uEk"
   },
   "source": [
    "**Contents of this lab session:**\n",
    "\n",
    "1. Loading image data with Keras.\n",
    "2. Downloading a custom model and fine-tuning it."
   ]
  },
  {
   "cell_type": "markdown",
   "metadata": {
    "colab_type": "text",
    "id": "M_4-m19OFa8J"
   },
   "source": [
    "### Downloading the dataset and setting up the virtual machine\n",
    "\n",
    "**Important**: this section is only needed if you are running a Google Colaboratory virtual environment."
   ]
  },
  {
   "cell_type": "markdown",
   "metadata": {
    "colab_type": "text",
    "id": "0Xv9Mb3-_RUb"
   },
   "source": [
    "Download the \"EUROSat\" dataset from here: http://madm.dfki.de/downloads"
   ]
  },
  {
   "cell_type": "code",
   "execution_count": 1,
   "metadata": {
    "colab": {
     "base_uri": "https://localhost:8080/",
     "height": 204
    },
    "colab_type": "code",
    "id": "rxvjIa9M_SmW",
    "outputId": "4937947c-42fa-4a4f-80da-6689e92911f8"
   },
   "outputs": [
    {
     "name": "stdout",
     "output_type": "stream",
     "text": [
      "--2019-05-10 09:08:50--  http://madm.dfki.de/files/sentinel/EuroSAT.zip\n",
      "Resolving madm.dfki.de (madm.dfki.de)... 131.246.195.183\n",
      "Connecting to madm.dfki.de (madm.dfki.de)|131.246.195.183|:80... connected.\n",
      "HTTP request sent, awaiting response... 200 OK\n",
      "Length: 94280567 (90M) [application/zip]\n",
      "Saving to: ‘EuroSAT.zip’\n",
      "\n",
      "EuroSAT.zip         100%[===================>]  89.91M  21.0MB/s    in 5.5s    \n",
      "\n",
      "2019-05-10 09:08:56 (16.3 MB/s) - ‘EuroSAT.zip’ saved [94280567/94280567]\n",
      "\n"
     ]
    }
   ],
   "source": [
    "!wget http://madm.dfki.de/files/sentinel/EuroSAT.zip"
   ]
  },
  {
   "cell_type": "code",
   "execution_count": 0,
   "metadata": {
    "colab": {},
    "colab_type": "code",
    "id": "kBCfJ_n3_YO0"
   },
   "outputs": [],
   "source": [
    "!unzip -q EuroSAT.zip "
   ]
  },
  {
   "cell_type": "code",
   "execution_count": null,
   "metadata": {
    "colab": {
     "base_uri": "https://localhost:8080/",
     "height": 510
    },
    "colab_type": "code",
    "id": "E9JRfgMM_iNF",
    "outputId": "9003eedb-0745-4a10-ee48-3bae354ee105"
   },
   "outputs": [],
   "source": [
    "!pip install tensorflow-gpu==2.0.0-alpha0"
   ]
  },
  {
   "cell_type": "markdown",
   "metadata": {
    "colab_type": "text",
    "id": "XRWUj0CVFibR"
   },
   "source": [
    "### Loading image data in Keras"
   ]
  },
  {
   "cell_type": "code",
   "execution_count": 2,
   "metadata": {
    "colab": {},
    "colab_type": "code",
    "id": "1x5VMMwI_RUb"
   },
   "outputs": [],
   "source": [
    "from tensorflow.keras.preprocessing.image import ImageDataGenerator"
   ]
  },
  {
   "cell_type": "markdown",
   "metadata": {
    "colab_type": "text",
    "id": "_YJcTx6E_RUe"
   },
   "source": [
    "See here for the full documentation of the Keras image generator: https://keras.io/preprocessing/image/.\n",
    "\n",
    "Alternatively, we could have loaded images using tf.data, but in the case of separated folders using the Keras interface is slightly easier: https://www.tensorflow.org/tutorials/load_data/images."
   ]
  },
  {
   "cell_type": "code",
   "execution_count": 3,
   "metadata": {
    "colab": {},
    "colab_type": "code",
    "id": "vifgcwp3_RUe"
   },
   "outputs": [],
   "source": [
    "train_datagen = ImageDataGenerator(validation_split=0.2, rescale=1.0/255)"
   ]
  },
  {
   "cell_type": "code",
   "execution_count": 4,
   "metadata": {
    "colab": {
     "base_uri": "https://localhost:8080/",
     "height": 51
    },
    "colab_type": "code",
    "id": "edvt5czk_RUg",
    "outputId": "afb1e379-d1f3-4911-bf59-cd381094c9a1"
   },
   "outputs": [
    {
     "name": "stdout",
     "output_type": "stream",
     "text": [
      "Found 21600 images belonging to 10 classes.\n",
      "Found 5400 images belonging to 10 classes.\n"
     ]
    }
   ],
   "source": [
    "dataset_path = './data/eurosat/'\n",
    "train_it = train_datagen.flow_from_directory(dataset_path, target_size=(64, 64), batch_size=32, subset='training')\n",
    "val_it = train_datagen.flow_from_directory(dataset_path, target_size=(64, 64), batch_size=32, subset='validation')"
   ]
  },
  {
   "cell_type": "code",
   "execution_count": 7,
   "metadata": {
    "colab": {
     "base_uri": "https://localhost:8080/",
     "height": 286
    },
    "colab_type": "code",
    "id": "wNTS09Fo_RUk",
    "outputId": "eab6c79b-a4c9-44ec-c040-bfa871fd8e7f"
   },
   "outputs": [
    {
     "name": "stdout",
     "output_type": "stream",
     "text": [
      "Desired target for the image is:  [1. 0. 0. 0. 0. 0. 0. 0. 0. 0.]\n"
     ]
    },
    {
     "data": {
      "image/png": "[encoded data removed]",
      "text/plain": [
       "<Figure size 432x288 with 1 Axes>"
      ]
     },
     "metadata": {
      "needs_background": "light"
     },
     "output_type": "display_data"
    }
   ],
   "source": [
    "import matplotlib.pyplot as plt\n",
    "%matplotlib inline\n",
    "for xb, yb in train_it:\n",
    "    plt.imshow(xb[0, :, :, :])\n",
    "    print('Desired target for the image is: ', yb[0])\n",
    "    break"
   ]
  },
  {
   "cell_type": "markdown",
   "metadata": {
    "colab_type": "text",
    "id": "FllzX2QmFqSB"
   },
   "source": [
    "### Downloading a pretrained model in Keras"
   ]
  },
  {
   "cell_type": "markdown",
   "metadata": {
    "colab_type": "text",
    "id": "8DIcj1BZ_RUo"
   },
   "source": [
    "https://www.tensorflow.org/api_docs/python/tf/keras/models/Model"
   ]
  },
  {
   "cell_type": "code",
   "execution_count": 8,
   "metadata": {
    "colab": {
     "base_uri": "https://localhost:8080/",
     "height": 51
    },
    "colab_type": "code",
    "id": "dLNgw-he_RUt",
    "outputId": "4b4dc8df-75a5-40dd-da57-559982758389"
   },
   "outputs": [],
   "source": [
    "from tensorflow.keras import applications\n",
    "vgg = applications.vgg19.VGG19(include_top=False, input_shape=(64, 64, 3))"
   ]
  },
  {
   "cell_type": "code",
   "execution_count": 9,
   "metadata": {
    "colab": {
     "base_uri": "https://localhost:8080/",
     "height": 901
    },
    "colab_type": "code",
    "id": "uw2eam7MEV9U",
    "outputId": "22ec9bb2-a69b-47d9-f7c0-3e259a17fe57"
   },
   "outputs": [
    {
     "name": "stdout",
     "output_type": "stream",
     "text": [
      "Model: \"vgg19\"\n",
      "_________________________________________________________________\n",
      "Layer (type)                 Output Shape              Param #   \n",
      "=================================================================\n",
      "input_1 (InputLayer)         [(None, 64, 64, 3)]       0         \n",
      "_________________________________________________________________\n",
      "block1_conv1 (Conv2D)        (None, 64, 64, 64)        1792      \n",
      "_________________________________________________________________\n",
      "block1_conv2 (Conv2D)        (None, 64, 64, 64)        36928     \n",
      "_________________________________________________________________\n",
      "block1_pool (MaxPooling2D)   (None, 32, 32, 64)        0         \n",
      "_________________________________________________________________\n",
      "block2_conv1 (Conv2D)        (None, 32, 32, 128)       73856     \n",
      "_________________________________________________________________\n",
      "block2_conv2 (Conv2D)        (None, 32, 32, 128)       147584    \n",
      "_________________________________________________________________\n",
      "block2_pool (MaxPooling2D)   (None, 16, 16, 128)       0         \n",
      "_________________________________________________________________\n",
      "block3_conv1 (Conv2D)        (None, 16, 16, 256)       295168    \n",
      "_________________________________________________________________\n",
      "block3_conv2 (Conv2D)        (None, 16, 16, 256)       590080    \n",
      "_________________________________________________________________\n",
      "block3_conv3 (Conv2D)        (None, 16, 16, 256)       590080    \n",
      "_________________________________________________________________\n",
      "block3_conv4 (Conv2D)        (None, 16, 16, 256)       590080    \n",
      "_________________________________________________________________\n",
      "block3_pool (MaxPooling2D)   (None, 8, 8, 256)         0         \n",
      "_________________________________________________________________\n",
      "block4_conv1 (Conv2D)        (None, 8, 8, 512)         1180160   \n",
      "_________________________________________________________________\n",
      "block4_conv2 (Conv2D)        (None, 8, 8, 512)         2359808   \n",
      "_________________________________________________________________\n",
      "block4_conv3 (Conv2D)        (None, 8, 8, 512)         2359808   \n",
      "_________________________________________________________________\n",
      "block4_conv4 (Conv2D)        (None, 8, 8, 512)         2359808   \n",
      "_________________________________________________________________\n",
      "block4_pool (MaxPooling2D)   (None, 4, 4, 512)         0         \n",
      "_________________________________________________________________\n",
      "block5_conv1 (Conv2D)        (None, 4, 4, 512)         2359808   \n",
      "_________________________________________________________________\n",
      "block5_conv2 (Conv2D)        (None, 4, 4, 512)         2359808   \n",
      "_________________________________________________________________\n",
      "block5_conv3 (Conv2D)        (None, 4, 4, 512)         2359808   \n",
      "_________________________________________________________________\n",
      "block5_conv4 (Conv2D)        (None, 4, 4, 512)         2359808   \n",
      "_________________________________________________________________\n",
      "block5_pool (MaxPooling2D)   (None, 2, 2, 512)         0         \n",
      "=================================================================\n",
      "Total params: 20,024,384\n",
      "Trainable params: 20,024,384\n",
      "Non-trainable params: 0\n",
      "_________________________________________________________________\n"
     ]
    }
   ],
   "source": [
    "vgg.summary()"
   ]
  },
  {
   "cell_type": "code",
   "execution_count": 10,
   "metadata": {
    "colab": {},
    "colab_type": "code",
    "id": "uGpAbrD2EZuT"
   },
   "outputs": [],
   "source": [
    "# Make all layers non-trainable (i.e., \"freeze\" the layers)\n",
    "for l in vgg.layers:\n",
    "    l.trainable = False"
   ]
  },
  {
   "cell_type": "code",
   "execution_count": 11,
   "metadata": {
    "colab": {},
    "colab_type": "code",
    "id": "796RU937EcsD"
   },
   "outputs": [],
   "source": [
    "from tensorflow.keras import models, layers"
   ]
  },
  {
   "cell_type": "code",
   "execution_count": 12,
   "metadata": {
    "colab": {
     "base_uri": "https://localhost:8080/",
     "height": 255
    },
    "colab_type": "code",
    "id": "fGKWVaGvEfx6",
    "outputId": "e0e48f43-06ee-4bd5-b95a-16f7d467bea4"
   },
   "outputs": [
    {
     "name": "stdout",
     "output_type": "stream",
     "text": [
      "Model: \"sequential\"\n",
      "_________________________________________________________________\n",
      "Layer (type)                 Output Shape              Param #   \n",
      "=================================================================\n",
      "vgg19 (Model)                (None, 2, 2, 512)         20024384  \n",
      "_________________________________________________________________\n",
      "flatten (Flatten)            (None, 2048)              0         \n",
      "_________________________________________________________________\n",
      "dense (Dense)                (None, 10)                20490     \n",
      "=================================================================\n",
      "Total params: 20,044,874\n",
      "Trainable params: 20,490\n",
      "Non-trainable params: 20,024,384\n",
      "_________________________________________________________________\n"
     ]
    }
   ],
   "source": [
    "# Add a single layer for classification\n",
    "m = models.Sequential()\n",
    "\n",
    "m.add(vgg)\n",
    "m.add(layers.Flatten())\n",
    "m.add(layers.Dense(10, activation='softmax'))\n",
    "\n",
    "m.summary()"
   ]
  }
 ],
 "metadata": {
  "accelerator": "GPU",
  "colab": {
   "name": "Notebook_4_convolutional_neural_networks.ipynb",
   "provenance": [],
   "version": "0.3.2"
  },
  "kernelspec": {
   "display_name": "Python 3",
   "language": "python",
   "name": "python3"
  },
  "language_info": {
   "codemirror_mode": {
    "name": "ipython",
    "version": 3
   },
   "file_extension": ".py",
   "mimetype": "text/x-python",
   "name": "python",
   "nbconvert_exporter": "python",
   "pygments_lexer": "ipython3",
   "version": "3.6.8"
  }
 },
 "nbformat": 4,
 "nbformat_minor": 1
}
